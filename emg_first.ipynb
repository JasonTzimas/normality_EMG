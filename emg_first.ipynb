{
 "cells": [
  {
   "cell_type": "code",
   "execution_count": 1,
   "metadata": {},
   "outputs": [],
   "source": [
    "import sys\n",
    "sys.path.insert(1, 'functions')\n",
    "import numpy as np\n",
    "import pandas as pd\n",
    "import scipy.io\n",
    "import scipy\n",
    "import matplotlib\n",
    "import matplotlib.pyplot as plt\n",
    "from scipy import stats\n",
    "from sklearn import preprocessing\n",
    "from statsmodels.graphics.gofplots import qqplot\n",
    "from scipy.stats import normaltest\n",
    "from normality_function import normality_fun\n",
    "import statsmodels.api as sm\n",
    "from statsmodels.tsa.arima_model import ARMA\n",
    "import statsmodels\n",
    "from scipy.interpolate import interp1d\n",
    "from scipy import signal\n",
    "from scipy.fft import fftshift\n",
    "\n",
    "# Import mat files\n",
    "mat_angle = scipy.io.loadmat('data/angle_40bpm.mat')\n",
    "mat_emg1 = scipy.io.loadmat('data/emg1_40bpm.mat')\n",
    "mat_emg2 = scipy.io.loadmat('data/emg2_40bpm.mat')\n",
    "\n",
    "# Convert them to numpy arrays\n",
    "angle = np.array(mat_angle['angle1'])\n",
    "emg1 = np.array(mat_emg1['emg1'])\n",
    "emg2 = np.array(mat_emg2['emg2'])\n",
    "T = 0.001\n",
    "N = emg1.shape[0]\n",
    "\n",
    "# Normalize data\n",
    "scaler = preprocessing.StandardScaler().fit(emg1)\n",
    "emg1 = scaler.transform(emg1)\n",
    "scaler = preprocessing.StandardScaler().fit(emg2)\n",
    "emg2 = scaler.transform(emg2)\n"
   ]
  },
  {
   "cell_type": "code",
   "execution_count": 2,
   "metadata": {},
   "outputs": [
    {
     "name": "stdout",
     "output_type": "stream",
     "text": [
      "Statistics=5552.241, p=0.000\n",
      "Sample does not look Gaussian (reject H0)\n",
      "Statistics=9556.130, p=0.000\n",
      "Sample does not look Gaussian (reject H0)\n",
      "Statistics=220.924, p=0.000\n",
      "Sample does not look Gaussian (reject H0)\n",
      "Statistics=264.931, p=0.000\n",
      "Sample does not look Gaussian (reject H0)\n"
     ]
    }
   ],
   "source": [
    "# Test normality\n",
    "n = 1000\n",
    "normality_fun(emg1, emg2, n)\n",
    "\n",
    "# Perform tests in a smaller quantity\n",
    "emg1_small = emg1[int(0.2*N):int(0.24*N)]\n",
    "emg2_small = emg2[int(0.2*N):int(0.24*N)]\n",
    "\n",
    "# Test normality on smaller sample\n",
    "n = 50\n",
    "normality_fun(emg1_small, emg2_small, n)"
   ]
  },
  {
   "cell_type": "code",
   "execution_count": null,
   "metadata": {},
   "outputs": [],
   "source": []
  },
  {
   "cell_type": "code",
   "execution_count": null,
   "metadata": {},
   "outputs": [],
   "source": []
  }
 ],
 "metadata": {
  "kernelspec": {
   "display_name": "Python 3",
   "language": "python",
   "name": "python3"
  },
  "language_info": {
   "codemirror_mode": {
    "name": "ipython",
    "version": 3
   },
   "file_extension": ".py",
   "mimetype": "text/x-python",
   "name": "python",
   "nbconvert_exporter": "python",
   "pygments_lexer": "ipython3",
   "version": "3.8.3"
  }
 },
 "nbformat": 4,
 "nbformat_minor": 4
}
