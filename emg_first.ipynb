{
 "cells": [
  {
   "cell_type": "code",
   "execution_count": 4,
   "metadata": {},
   "outputs": [],
   "source": [
    "%matplotlib inline\n",
    "import ipympl\n",
    "import sys\n",
    "sys.path.insert(1, 'functions')\n",
    "import numpy as np\n",
    "import pandas as pd\n",
    "import scipy.io\n",
    "import scipy\n",
    "import matplotlib\n",
    "import matplotlib.pyplot as plt\n",
    "from scipy import stats\n",
    "from sklearn import preprocessing\n",
    "from statsmodels.graphics.gofplots import qqplot\n",
    "from scipy.stats import normaltest\n",
    "from normality_function import normality_fun\n",
    "import statsmodels.api as sm\n",
    "from statsmodels.tsa.arima_model import ARMA\n",
    "import statsmodels\n",
    "from scipy.interpolate import interp1d\n",
    "from scipy import signal\n",
    "from scipy.fft import fftshift\n",
    "from statsmodels.tsa.ar_model import AutoReg, ar_select_order\n",
    "from statsmodels.tsa.api import acf, pacf, graphics\n",
    "import statsmodels.tsa\n",
    "from matplotlib import cm\n",
    "from statsmodels.tsa.ar_model import AutoReg, ar_select_order\n",
    "from statsmodels.tsa.api import acf, pacf, graphics\n",
    "from scipy.interpolate import interp1d\n",
    "import math\n",
    "%matplotlib widget\n",
    "\n",
    "plt.ion()\n",
    "# Import mat files\n",
    "mat_angle_40bpm = scipy.io.loadmat('data/angle_40bpm.mat')\n",
    "mat_emg1_40bpm = scipy.io.loadmat('data/emg1_40bpm.mat')\n",
    "mat_emg2_40bpm = scipy.io.loadmat('data/emg2_40bpm.mat')\n",
    "\n",
    "# Convert them to numpy arrays\n",
    "angle = np.array(mat_angle_40bpm['angle1'])\n",
    "emg1 = np.array(mat_emg1_40bpm['emg1'])\n",
    "emg2 = np.array(mat_emg2_40bpm['emg2'])\n",
    "T = 0.001\n",
    "N = emg1.shape[0]\n",
    "\n",
    "# Normalize data\n",
    "scaler = preprocessing.StandardScaler().fit(emg1)\n",
    "emg1 = scaler.transform(emg1)\n",
    "scaler = preprocessing.StandardScaler().fit(emg2)\n",
    "emg2 = scaler.transform(emg2)\n",
    "scaler = preprocessing.StandardScaler().fit(angle)\n",
    "angle = scaler.transform(angle)\n",
    "\n",
    "# Create Interpolated version of angles\n",
    "old_indices = np.arange(0, angle.shape[0])\n",
    "new_length = emg1.shape[0]\n",
    "new_indices = np.linspace(0, angle.shape[0] - 1, new_length)\n",
    "inter = interp1d(old_indices, angle, axis=0)\n",
    "angle = np.array(inter(new_indices))"
   ]
  },
  {
   "cell_type": "code",
   "execution_count": 5,
   "metadata": {},
   "outputs": [
    {
     "data": {
      "application/javascript": [
       "IPython.OutputArea.prototype._should_scroll = function(lines) {\n",
       "    return false;\n",
       "}\n"
      ],
      "text/plain": [
       "<IPython.core.display.Javascript object>"
      ]
     },
     "metadata": {},
     "output_type": "display_data"
    }
   ],
   "source": [
    "%%javascript\n",
    "IPython.OutputArea.prototype._should_scroll = function(lines) {\n",
    "    return false;\n",
    "}"
   ]
  },
  {
   "cell_type": "markdown",
   "metadata": {},
   "source": [
    "## <span style='font-family:\"Times New Roman\"'> <span styel=''>In the following figures normality is checked for both Bicpe and Tricep EMG signals. "
   ]
  },
  {
   "cell_type": "code",
   "execution_count": 6,
   "metadata": {
    "scrolled": false
   },
   "outputs": [
    {
     "data": {
      "application/vnd.jupyter.widget-view+json": {
       "model_id": "6a3a6faa866944198f4db5a1efe95add",
       "version_major": 2,
       "version_minor": 0
      },
      "text/plain": [
       "Canvas(toolbar=Toolbar(toolitems=[('Home', 'Reset original view', 'home', 'home'), ('Back', 'Back to previous …"
      ]
     },
     "metadata": {},
     "output_type": "display_data"
    },
    {
     "data": {
      "application/vnd.jupyter.widget-view+json": {
       "model_id": "625451139c7842f38e7a20f5c64a6802",
       "version_major": 2,
       "version_minor": 0
      },
      "text/plain": [
       "Canvas(toolbar=Toolbar(toolitems=[('Home', 'Reset original view', 'home', 'home'), ('Back', 'Back to previous …"
      ]
     },
     "metadata": {},
     "output_type": "display_data"
    },
    {
     "data": {
      "application/vnd.jupyter.widget-view+json": {
       "model_id": "9174628a348b4f3e8dc54ebeb9e30443",
       "version_major": 2,
       "version_minor": 0
      },
      "text/plain": [
       "Canvas(toolbar=Toolbar(toolitems=[('Home', 'Reset original view', 'home', 'home'), ('Back', 'Back to previous …"
      ]
     },
     "metadata": {},
     "output_type": "display_data"
    },
    {
     "name": "stdout",
     "output_type": "stream",
     "text": [
      "Statistics=5552.241, p=0.000\n",
      "Sample does not look Gaussian (reject H0)\n",
      "Statistics=9556.130, p=0.000\n",
      "Sample does not look Gaussian (reject H0)\n"
     ]
    },
    {
     "data": {
      "application/vnd.jupyter.widget-view+json": {
       "model_id": "dd688f58b7a847d0ace1a85adbc142b7",
       "version_major": 2,
       "version_minor": 0
      },
      "text/plain": [
       "Canvas(toolbar=Toolbar(toolitems=[('Home', 'Reset original view', 'home', 'home'), ('Back', 'Back to previous …"
      ]
     },
     "metadata": {},
     "output_type": "display_data"
    },
    {
     "data": {
      "application/vnd.jupyter.widget-view+json": {
       "model_id": "0549ecd142444ff89930f53c1770d96b",
       "version_major": 2,
       "version_minor": 0
      },
      "text/plain": [
       "Canvas(toolbar=Toolbar(toolitems=[('Home', 'Reset original view', 'home', 'home'), ('Back', 'Back to previous …"
      ]
     },
     "metadata": {},
     "output_type": "display_data"
    },
    {
     "data": {
      "application/vnd.jupyter.widget-view+json": {
       "model_id": "a991d4a8bf8c49eaa49da095f76cc381",
       "version_major": 2,
       "version_minor": 0
      },
      "text/plain": [
       "Canvas(toolbar=Toolbar(toolitems=[('Home', 'Reset original view', 'home', 'home'), ('Back', 'Back to previous …"
      ]
     },
     "metadata": {},
     "output_type": "display_data"
    },
    {
     "name": "stdout",
     "output_type": "stream",
     "text": [
      "Statistics=220.924, p=0.000\n",
      "Sample does not look Gaussian (reject H0)\n",
      "Statistics=264.931, p=0.000\n",
      "Sample does not look Gaussian (reject H0)\n"
     ]
    }
   ],
   "source": [
    "# Test normality\n",
    "n = 1000\n",
    "normality_fun(emg1, emg2, n)\n",
    "\n",
    "# Perform tests in a smaller quantity\n",
    "emg1_small = emg1[int(0.2*N):int(0.24*N)]\n",
    "emg2_small = emg2[int(0.2*N):int(0.24*N)]\n",
    "\n",
    "# Test normality on smaller sample\n",
    "n = 50\n",
    "normality_fun(emg1_small, emg2_small, n)"
   ]
  },
  {
   "cell_type": "code",
   "execution_count": 7,
   "metadata": {},
   "outputs": [
    {
     "name": "stdout",
     "output_type": "stream",
     "text": [
      " Dickey Fuller test for emg biceps:  (-91.03877703539604, 0.0, 20, 79045, {'1%': -3.430432731512085, '5%': -2.8615765659253696, '10%': -2.566789462781159}, 98486.240425409)\n",
      " Dickey Fuller test for emg biceps:  (-91.321709780378, 0.0, 20, 79045, {'1%': -3.430432731512085, '5%': -2.8615765659253696, '10%': -2.566789462781159}, 67810.11969643182)\n"
     ]
    }
   ],
   "source": [
    "# Augmented Dickey-Fuller stationarity test\n",
    "statistic = statsmodels.tsa.stattools.adfuller(emg1,\n",
    "           maxlag=20, regression='c', autolag='AIC', store=False, regresults=False)\n",
    "print(\" Dickey Fuller test for emg biceps: \", statistic)\n",
    "statistic = statsmodels.tsa.stattools.adfuller(emg2,\n",
    "           maxlag=20, regression='c', autolag='AIC', store=False, regresults=False)\n",
    "print(\" Dickey Fuller test for emg biceps: \", statistic)"
   ]
  },
  {
   "cell_type": "markdown",
   "metadata": {},
   "source": [
    "## <span style='font-family:\"Times New Roman\"'> <span styel=''>The Dickey-Fuller test was implemented due to the lack of signal normality observed previously. The result give a p-value close to 0 and stationarity is rejected.\n",
    "    \n",
    "## <span style='font-family:\"Times New Roman\"'> <span styel=''>A classical Statistical hypothesis worklow for stationarity evaluation consists of taking dual tests between different signal segments.\n",
    "## <span style='font-family:\"Times New Roman\"'> <span styel=''>With: \n",
    "    \n",
    "    "
   ]
  },
  {
   "cell_type": "markdown",
   "metadata": {},
   "source": [
    "$ \\large{Y \\sim N(\\mu, \\sigma) = \\hat{\\mu_{t_{01}}} - \\hat{\\mu_{t_{34}}} = \\frac{\\sum_{t=t_0}^{t_1} x_t }{t_1 - t_0} - \\frac{\\sum_{t=t_0}^{t_1} x_t}{t_2 - t_3}} $\n",
    "\n",
    "## <span style='font-family:\"Times New Roman\"'> <span styel=''> And can be considered normal as a sum of normals, if:\n",
    "\n",
    "$ \\large{X_t \\sim N(\\mu, \\sigma)}$\n",
    "    \n",
    "## <span style='font-family:\"Times New Roman\"'> <span styel=''> ,which in our case does not hold\n",
    "    \n",
    "    "
   ]
  },
  {
   "cell_type": "markdown",
   "metadata": {},
   "source": [
    "\n",
    "    \n",
    "## <span style='font-family:\"Times New Roman\"'> <span styel=''>We shall now computer the ACFs of the whole series of biceps and triceps data, as well as, the ACFs of smaller windows and the comparative acfs between neighbouring segments.\n",
    "    \n",
    "\n",
    "    \n",
    "    \n",
    "\n"
   ]
  },
  {
   "cell_type": "code",
   "execution_count": 8,
   "metadata": {
    "scrolled": true
   },
   "outputs": [
    {
     "data": {
      "application/vnd.jupyter.widget-view+json": {
       "model_id": "48573330c7dc442981b850e35cecc152",
       "version_major": 2,
       "version_minor": 0
      },
      "text/plain": [
       "Canvas(toolbar=Toolbar(toolitems=[('Home', 'Reset original view', 'home', 'home'), ('Back', 'Back to previous …"
      ]
     },
     "metadata": {},
     "output_type": "display_data"
    },
    {
     "data": {
      "text/plain": [
       "<bound method Figure.tight_layout of <Figure size 936x576 with 6 Axes>>"
      ]
     },
     "execution_count": 8,
     "metadata": {},
     "output_type": "execute_result"
    }
   ],
   "source": [
    "plt.rcParams[\"figure.figsize\"] = (13,8)\n",
    "\n",
    "fig, axs = plt.subplots(3, 2)\n",
    "sm.graphics.tsa.plot_acf(emg1, lags=50, ax=axs[0,0], title=\"ACF full signal, biceps\")\n",
    "sm.graphics.tsa.plot_acf(emg2, lags=50, ax=axs[0,1], title=\"ACF full signal, triceps\")\n",
    "sm.graphics.tsa.plot_acf(emg1[int(0.2*N):int(0.3*N)], lags=50, ax=axs[1,0], title=\"ACF 1/10 signal, biceps\")\n",
    "sm.graphics.tsa.plot_acf(emg2[int(0.2*N):int(0.3*N)], lags=50, ax=axs[1,1], title=\"ACF 1/10 signal, triceps\")\n",
    "sm.graphics.tsa.plot_acf(emg1[int(0.2*N):int(0.3*N)], lags=50, ax=axs[2,0])\n",
    "sm.graphics.tsa.plot_acf(emg1[int(0.3*N):int(0.4*N)], lags=50, ax=axs[2,0], title=\"Comparative ACF of neighboring segments\")\n",
    "sm.graphics.tsa.plot_acf(emg2[int(0.2*N):int(0.3*N)], lags=50, ax=axs[2,1])\n",
    "sm.graphics.tsa.plot_acf(emg1[int(0.3*N):int(0.4*N)], lags=50, ax=axs[2,1], title=\"Comparative ACF of neighboring segments\")\n",
    "fig.tight_layout"
   ]
  },
  {
   "cell_type": "markdown",
   "metadata": {},
   "source": [
    "\n",
    "    \n",
    "## <span style='font-family:\"Times New Roman\"'> <span styel=''>It is obvious that there is no similarity between neighboring acfs and that the memory of the signal is of size 15-25 lags\n",
    "    \n",
    "    \n",
    "## <span style='font-family:\"Times New Roman\"'> <span styel=''> Assuming normality, (which is not true) dual hypothesis testing is performed for the dataset, which is partitioned in 10 non-overlaping segments. Each bar in the x-y axis gives the estimator mean and the surface subtly seen in the bottom represents the 1.96*σ values for each point.\n",
    "    \n",
    "## <span style='font-family:\"Times New Roman\"'> <span styel=''>A dual hypothesis test is also carried out with respect to the first moment or mean. In the two following figures each bar represents the mean difference between the Xi and Yi segment, and the surface in the top represents the 0.05 confidence interval for stationarity"
   ]
  },
  {
   "cell_type": "code",
   "execution_count": 9,
   "metadata": {
    "scrolled": false
   },
   "outputs": [
    {
     "name": "stderr",
     "output_type": "stream",
     "text": [
      "C:\\Users\\iasonas\\anaconda3\\lib\\site-packages\\statsmodels\\tsa\\stattools.py:662: FutureWarning: fft=True will become the default after the release of the 0.12 release of statsmodels. To suppress this warning, explicitly set fft=False.\n",
      "  warnings.warn(\n"
     ]
    },
    {
     "data": {
      "application/vnd.jupyter.widget-view+json": {
       "model_id": "db50af33d89f405b87aa973bcf529bca",
       "version_major": 2,
       "version_minor": 0
      },
      "text/plain": [
       "Canvas(toolbar=Toolbar(toolitems=[('Home', 'Reset original view', 'home', 'home'), ('Back', 'Back to previous …"
      ]
     },
     "metadata": {},
     "output_type": "display_data"
    },
    {
     "data": {
      "application/vnd.jupyter.widget-view+json": {
       "model_id": "20f291f3a7674170a40242a357cab4ff",
       "version_major": 2,
       "version_minor": 0
      },
      "text/plain": [
       "Canvas(toolbar=Toolbar(toolitems=[('Home', 'Reset original view', 'home', 'home'), ('Back', 'Back to previous …"
      ]
     },
     "metadata": {},
     "output_type": "display_data"
    }
   ],
   "source": [
    "# Partition each signal in 10 segments\n",
    "length = int(emg1.shape[0]/10)\n",
    "acf_emg1 = np.empty([10, int(emg1.shape[0]/10)])\n",
    "acf_emg2 = np.empty([10, int(emg2.shape[0]/10)])\n",
    "mean_emg1 = np.empty([10, 1])\n",
    "mean_emg2 = np.empty([10, 1])\n",
    "mean_var_emg1 = np.empty([10, 1])\n",
    "mean_var_emg2 = np.empty([10, 1])\n",
    "\n",
    "# Calculate means and autocorrelations of segments\n",
    "for i in range(10):\n",
    "    acf_emg1[i, :] = statsmodels.tsa.stattools.acf(emg1[i*length:(i+1)*length], nlags=length)\n",
    "    acf_emg2[i, :] = statsmodels.tsa.stattools.acf(emg2[i*length:(i+1)*length], nlags=length)\n",
    "    mean_emg1[i, 0] = np.mean(emg1[i*length:(i+1)*length])\n",
    "    mean_emg2[i, 0] = np.mean(emg2[i*length:(i+1)*length])\n",
    "    mean_var_emg1[i, 0] = 2/length * np.sum((1 - np.arange(length)/length)*acf_emg1[i, :])\n",
    "    mean_var_emg2[i, 0] = 2/length * np.sum((1 - np.arange(length)/length)*acf_emg2[i, :])\n",
    "\n",
    "p_val1 = np.empty([10, 10])\n",
    "lim1 = np.empty([10, 10])\n",
    "p_val2 = np.empty([10, 10])\n",
    "lim2 = np.empty([10, 10])\n",
    "\n",
    "for i in range(10):\n",
    "    for j in range(10):\n",
    "        p_val1[i, j] = mean_emg1[i, 0] - mean_emg1[j, 0]\n",
    "        lim1[i, j] = 1.96 * (mean_var_emg1[i, 0] + mean_var_emg1[j, 0])\n",
    "        p_val2[i, j] = mean_emg2[i, 0] - mean_emg2[j, 0]\n",
    "        lim2[i, j] = 1.96 * (mean_var_emg2[i, 0] + mean_var_emg2[j, 0])\n",
    "\n",
    "# Plot EMG biceps\n",
    "x = np.arange(10)\n",
    "y = np.arange(10)\n",
    "x, y = np.meshgrid(x, y)\n",
    "\n",
    "plt.rcParams[\"figure.figsize\"] = (13,8)\n",
    "fig = plt.figure()\n",
    "ax1 = plt.axes(projection='3d')   \n",
    "ax1.plot_surface(x, y, np.sqrt(lim1), rstride=1, cstride=1,\n",
    "                cmap='viridis', edgecolor='none', alpha=0.5)\n",
    "#ax1.plot_surface(x, y, -lim, rstride=1, cstride=1,\n",
    "                #cmap='viridis', edgecolor='none', alpha=0.5)\n",
    "_x = np.arange(10)\n",
    "_y = np.arange(10)\n",
    "_xx, _yy = np.meshgrid(_x, _y)\n",
    "x, y = _xx.ravel(), _yy.ravel()\n",
    "bottom = np.zeros_like(x)\n",
    "width = depth = 0.4\n",
    "top = abs(p_val1.ravel())\n",
    "\n",
    "\n",
    "ax1.bar3d(x, y, bottom, width, depth, top, shade=True)\n",
    "ax1.set_title('Dual Stationarity Hypothesis biceps (means) ')\n",
    "ax1.set_xlabel('x axis')\n",
    "ax1.set_ylabel('y axis')\n",
    "ax1.set_zlabel('p_values(bars), 0.05 limits (surface)')\n",
    "plt.show()\n",
    "\n",
    "# Plot EMG triceps\n",
    "x = np.arange(10)\n",
    "y = np.arange(10)\n",
    "x, y = np.meshgrid(x, y)\n",
    "\n",
    "plt.rcParams[\"figure.figsize\"] = (13,8)\n",
    "fig = plt.figure()\n",
    "ax1 = plt.axes(projection='3d')   \n",
    "ax1.plot_surface(x, y, np.sqrt(lim2), rstride=1, cstride=1,\n",
    "                cmap='viridis', edgecolor='none', alpha=0.5)\n",
    "#ax1.plot_surface(x, y, -lim, rstride=1, cstride=1,\n",
    "                #cmap='viridis', edgecolor='none', alpha=0.5)\n",
    "_x = np.arange(10)\n",
    "_y = np.arange(10)\n",
    "_xx, _yy = np.meshgrid(_x, _y)\n",
    "x, y = _xx.ravel(), _yy.ravel()\n",
    "bottom = np.zeros_like(x)\n",
    "width = depth = 0.4\n",
    "top = abs(p_val2.ravel())\n",
    "\n",
    "\n",
    "ax1.bar3d(x, y, bottom, width, depth, top, shade=True)\n",
    "ax1.set_title('Dual Stationarity Hypothesis triceps (means) ')\n",
    "ax1.set_xlabel('x axis')\n",
    "ax1.set_ylabel('y axis')\n",
    "ax1.set_zlabel('p_values(bars), 0.05 limits (surface)')\n",
    "plt.show()\n"
   ]
  },
  {
   "cell_type": "markdown",
   "metadata": {},
   "source": [
    "## <span style='font-family:\"Times New Roman\"'> <span styel=''>Null Hypothesis:    \n",
    "$ \\large{H_0} $ \n",
    "## <span style='font-family:\"Times New Roman\"'> <span styel=''>gets accepted and the signal is considered stationary, with respect to the first moment.\n",
    "\n",
    "## <span style='font-family:\"Times New Roman\"'> <span styel=''>Stationarity is now asserted with respect to the covariance, that is:\n",
    "    \n",
    "$ \\large{H_0 : \\hat{\\gamma_{k,0}} - \\hat{\\gamma_{k,1}} = 0}$\n",
    " \n",
    "$ \\large{H_1 : \\hat{\\gamma_{k,0}} - \\hat{\\gamma_{k,1}} \\neq 0}$\n",
    "    \n",
    "## <span style='font-family:\"Times New Roman\"'> <span styel=''>Each bar represents the covariance estimated difference between the 1st and 2nd emg segment for lag represented by the x-axis value. The shaded area is the 0.05 confidence interval:\n",
    "\n",
    "\n",
    "\n",
    "\n",
    "    "
   ]
  },
  {
   "cell_type": "code",
   "execution_count": 10,
   "metadata": {},
   "outputs": [
    {
     "data": {
      "application/vnd.jupyter.widget-view+json": {
       "model_id": "4a610a3e5174467b93944b9bd4333a09",
       "version_major": 2,
       "version_minor": 0
      },
      "text/plain": [
       "Canvas(toolbar=Toolbar(toolitems=[('Home', 'Reset original view', 'home', 'home'), ('Back', 'Back to previous …"
      ]
     },
     "metadata": {},
     "output_type": "display_data"
    },
    {
     "data": {
      "text/plain": [
       "Text(0.5, 0.98, ' Stationarity Hypothesis test with respect to covariance for lags 0 to 40')"
      ]
     },
     "execution_count": 10,
     "metadata": {},
     "output_type": "execute_result"
    }
   ],
   "source": [
    "# Partition the signal in two segments\n",
    "lags = 40\n",
    "length = int(emg1.shape[0]/2)\n",
    "gamma_biceps = np.empty([3, lags]).T\n",
    "gamma1_biceps = np.empty([2,lags]).T\n",
    "gamma2_biceps = np.empty([2, lags]).T\n",
    "gamma1_triceps = np.empty([2,lags]).T\n",
    "gamma2_triceps = np.empty([2, lags]).T\n",
    "gamma_triceps = np.empty([3, lags]).T\n",
    "gamma1_var_biceps = np.empty([lags])\n",
    "gamma2_var_biceps = np.empty([lags])\n",
    "gamma1_var_triceps = np.empty([lags])\n",
    "gamma2_var_triceps = np.empty([lags])\n",
    "\n",
    "gamma1_biceps = statsmodels.tsa.stattools.acf(emg1[0:length], nlags=lags-1, alpha=.005)\n",
    "gamma2_biceps = statsmodels.tsa.stattools.acf(emg1[length:2*length], nlags=lags-1, alpha=.005)\n",
    "gamma1_triceps = statsmodels.tsa.stattools.acf(emg2[0:length], nlags=lags-1, alpha=.005)\n",
    "gamma2_triceps = statsmodels.tsa.stattools.acf(emg2[length:2*length], nlags=lags-1, alpha=.005)\n",
    "gamma_biceps[:, 0] = gamma1_biceps[0] - gamma2_biceps[0]\n",
    "gamma_triceps[:, 0] = gamma1_triceps[0] - gamma2_triceps[0]\n",
    "gamma_biceps[:, 1:3] = gamma1_biceps[1] - gamma2_biceps[1]\n",
    "gamma_triceps[:, 1:3] = gamma1_triceps[1] - gamma2_triceps[1]\n",
    "for i in range(lags): \n",
    "    gamma1_var_biceps[i] = 2/N * np.sum(np.power(gamma1_biceps[0][:lags-i],2) + gamma1_biceps[0][i:]*gamma1_biceps[0][0:lags-i])\n",
    "    gamma2_var_biceps[i] = 2/N * np.sum(np.power(gamma2_biceps[0][:lags-i],2) + gamma2_biceps[0][i:]*gamma2_biceps[0][0:lags-i])\n",
    "    gamma1_var_triceps[i] = 2/N * np.sum(np.power(gamma1_triceps[0][:lags-i],2) + gamma1_triceps[0][i:]*gamma1_triceps[0][0:lags-i])\n",
    "    gamma2_var_triceps[i] = 2/N * np.sum(np.power(gamma2_triceps[0][:lags-i],2) + gamma2_triceps[0][i:]*gamma2_triceps[0][0:lags-i])\n",
    "    gamma_var_biceps = gamma1_var_biceps + gamma2_var_biceps\n",
    "    gamma_var_triceps = gamma1_var_triceps + gamma2_var_triceps\n",
    "                                         \n",
    "fig, axs = plt.subplots(2,1)\n",
    "axs[0].plot(np.arange(lags), 1.96*np.sqrt(gamma_var_biceps))\n",
    "axs[0].plot(np.arange(lags), -1.96*np.sqrt(gamma_var_biceps))\n",
    "axs[0].bar(np.arange(lags), gamma_biceps[:, 0], width=0.7)\n",
    "axs[0].set_xlabel(\" Lags \")\n",
    "axs[0].fill_between(np.arange(lags), 1.96*np.sqrt(gamma_var_biceps), -1.96*np.sqrt(gamma_var_biceps), alpha=0.2)\n",
    "axs[1].plot(np.arange(lags), 1.96*np.sqrt(gamma_var_triceps))\n",
    "axs[1].plot(np.arange(lags), -1.96*np.sqrt(gamma_var_triceps))\n",
    "axs[1].set_xlabel(\"Lags\")\n",
    "axs[1].bar(np.arange(lags), gamma_triceps[:, 0], width=0.7)    \n",
    "axs[1].fill_between(np.arange(lags), 1.96*np.sqrt(gamma_var_triceps), -1.96*np.sqrt(gamma_var_triceps), alpha=0.2)\n",
    "fig.suptitle(\" Stationarity Hypothesis test with respect to covariance for lags 0 to 40\", fontsize=20)"
   ]
  },
  {
   "cell_type": "markdown",
   "metadata": {},
   "source": [
    "## <span style='font-family:\"Times New Roman\"'> <span styel=''>Stationarity Hypothesis is rejected with respect to the covariance.\n",
    "    \n",
    "## <span style='font-family:\"Times New Roman\"'> <span styel=''>In the following figures, spectrograms are provided for the bicep and tricep signals."
   ]
  },
  {
   "cell_type": "code",
   "execution_count": 11,
   "metadata": {},
   "outputs": [
    {
     "data": {
      "application/vnd.jupyter.widget-view+json": {
       "model_id": "e7ddf60654a4466893a0f0cccc2c8e84",
       "version_major": 2,
       "version_minor": 0
      },
      "text/plain": [
       "Canvas(toolbar=Toolbar(toolitems=[('Home', 'Reset original view', 'home', 'home'), ('Back', 'Back to previous …"
      ]
     },
     "metadata": {},
     "output_type": "display_data"
    },
    {
     "data": {
      "application/vnd.jupyter.widget-view+json": {
       "model_id": "f93c9960541741ad8ea11de24ba458f7",
       "version_major": 2,
       "version_minor": 0
      },
      "text/plain": [
       "Canvas(toolbar=Toolbar(toolitems=[('Home', 'Reset original view', 'home', 'home'), ('Back', 'Back to previous …"
      ]
     },
     "metadata": {},
     "output_type": "display_data"
    }
   ],
   "source": [
    "fs = 1000\n",
    "T = 0.001\n",
    "time = np.linspace(0, N*T, N)\n",
    "frequency = 1000.\n",
    "\n",
    "\n",
    "nperseg = int(0.1*N)\n",
    "noverlap = int(0.98*0.1*N)\n",
    "f, t, Sxx = signal.spectrogram(emg1.T, fs, nperseg=nperseg,noverlap=noverlap)\n",
    "\n",
    "fig = plt.figure()\n",
    "ax = fig.gca(projection='3d')\n",
    "fig.suptitle(\"EMG biceps spectrogram\")\n",
    "ax.set_xlabel(\"time (s) \")\n",
    "ax.set_ylabel(\"frequencies (Hz) \")\n",
    "ax.plot_surface(f[:, None], t[None, :], 10.0*np.log10(Sxx[0, :, :]), cmap=cm.coolwarm)\n",
    "plt.show()\n",
    "\n",
    "f, t, Sxx = signal.spectrogram(emg2.T, fs, nperseg=nperseg,noverlap=noverlap)\n",
    "\n",
    "fig = plt.figure()\n",
    "ax = fig.gca(projection='3d')\n",
    "fig.suptitle(\"EMG triceps spectrogram\")\n",
    "ax.set_xlabel(\"time (s) \")\n",
    "ax.set_ylabel(\"frequencies (Hz) \")\n",
    "ax.plot_surface(f[:, None], t[None, :], 10.0*np.log10(Sxx[0, :, :]), cmap=cm.coolwarm)\n",
    "plt.show()"
   ]
  },
  {
   "cell_type": "code",
   "execution_count": 12,
   "metadata": {},
   "outputs": [
    {
     "name": "stderr",
     "output_type": "stream",
     "text": [
      "C:\\Users\\iasonas\\anaconda3\\lib\\site-packages\\statsmodels\\tsa\\ar_model.py:248: FutureWarning: The parameter names will change after 0.12 is released. Set old_names to False to use the new names now. Set old_names to True to use the old names. \n",
      "  warnings.warn(\n"
     ]
    },
    {
     "name": "stdout",
     "output_type": "stream",
     "text": [
      "                            AutoReg Model Results                             \n",
      "==============================================================================\n",
      "Dep. Variable:                      y   No. Observations:                33207\n",
      "Model:                   AutoReg-X(5)   Log Likelihood              233458.044\n",
      "Method:               Conditional MLE   S.D. of innovations              0.000\n",
      "Date:                Sat, 17 Apr 2021   AIC                            -16.900\n",
      "Time:                        16:20:39   BIC                            -16.898\n",
      "Sample:                             5   HQIC                           -16.900\n",
      "                                33207                                         \n",
      "==============================================================================\n",
      "                 coef    std err          z      P>|z|      [0.025      0.975]\n",
      "------------------------------------------------------------------------------\n",
      "intercept   4.649e-07   1.18e-06      0.396      0.692   -1.84e-06    2.77e-06\n",
      "y.L1           2.2821      0.005    415.981      0.000       2.271       2.293\n",
      "y.L2          -1.6504      0.014   -120.875      0.000      -1.677      -1.624\n",
      "y.L3           0.4732      0.016     29.251      0.000       0.442       0.505\n",
      "y.L4          -0.1316      0.014     -9.639      0.000      -0.158      -0.105\n",
      "y.L5           0.0267      0.005      4.870      0.000       0.016       0.037\n",
      "x1         -4.239e-07   1.21e-06     -0.350      0.726    -2.8e-06    1.95e-06\n",
      "                                    Roots                                    \n",
      "=============================================================================\n",
      "                  Real          Imaginary           Modulus         Frequency\n",
      "-----------------------------------------------------------------------------\n",
      "AR.1            1.0004           -0.0000j            1.0004           -0.0000\n",
      "AR.2            1.0103           -0.0000j            1.0103           -0.0000\n",
      "AR.3            3.1753           -0.0000j            3.1753           -0.0000\n",
      "AR.4           -0.1297           -3.4127j            3.4152           -0.2560\n",
      "AR.5           -0.1297           +3.4127j            3.4152            0.2560\n",
      "-----------------------------------------------------------------------------\n"
     ]
    },
    {
     "name": "stderr",
     "output_type": "stream",
     "text": [
      "C:\\Users\\iasonas\\anaconda3\\lib\\site-packages\\statsmodels\\tsa\\ar_model.py:248: FutureWarning: The parameter names will change after 0.12 is released. Set old_names to False to use the new names now. Set old_names to True to use the old names. \n",
      "  warnings.warn(\n"
     ]
    },
    {
     "data": {
      "application/vnd.jupyter.widget-view+json": {
       "model_id": "6d898a07a2bf4bd8806980d0a355e07b",
       "version_major": 2,
       "version_minor": 0
      },
      "text/plain": [
       "Canvas(toolbar=Toolbar(toolitems=[('Home', 'Reset original view', 'home', 'home'), ('Back', 'Back to previous …"
      ]
     },
     "metadata": {},
     "output_type": "display_data"
    },
    {
     "data": {
      "application/vnd.jupyter.widget-view+json": {
       "model_id": "cd2667782b8a4927b4b3a62e1b1e984d",
       "version_major": 2,
       "version_minor": 0
      },
      "text/plain": [
       "Canvas(toolbar=Toolbar(toolitems=[('Home', 'Reset original view', 'home', 'home'), ('Back', 'Back to previous …"
      ]
     },
     "metadata": {},
     "output_type": "display_data"
    }
   ],
   "source": [
    "emg1_train = emg1[int(0.2*N):int(0.8*N)]\n",
    "angle_train = angle[int(0.2*N):int(0.8*N)]\n",
    "training_max_index = int(0.7*emg1_train.shape[0])\n",
    "mod = ar_select_order(angle_train[0:training_max_index], 20, exog=emg1_train[0:training_max_index])\n",
    "res = mod.model.fit()\n",
    "print(res.summary())\n",
    "fig = res.plot_predict(0, training_max_index, exog=emg1_train[0:training_max_index], exog_oos=emg1_train[training_max_index-1:])\n",
    "fig = plt.figure(figsize=(14,6))\n",
    "fig = res.plot_diagnostics(fig=fig, lags=20)\n",
    "\n"
   ]
  },
  {
   "cell_type": "markdown",
   "metadata": {},
   "source": [
    "## <span style='font-family:\"Times New Roman\"'> <span styel=''>Finally an ARX(max_lag=20) is fit to the data. The results are presented for both an in-sample prediction and an out-of-sample prediction.\n",
    "## <span style='font-family:\"Times New Roman\"'> <span styel=''>The identified model although adequate where output data are available in the in-sample case, fails to identify the output in the out-of-sample segment where data of the output are not available. The first figure is the predicted output with its confidence intervals and in the following residual analysis is presented."
   ]
  },
  {
   "cell_type": "code",
   "execution_count": 13,
   "metadata": {},
   "outputs": [
    {
     "name": "stderr",
     "output_type": "stream",
     "text": [
      "C:\\Users\\iasonas\\anaconda3\\lib\\site-packages\\statsmodels\\tsa\\ar_model.py:248: FutureWarning: The parameter names will change after 0.12 is released. Set old_names to False to use the new names now. Set old_names to True to use the old names. \n",
      "  warnings.warn(\n",
      "C:\\Users\\iasonas\\anaconda3\\lib\\site-packages\\statsmodels\\tsa\\ar_model.py:248: FutureWarning: The parameter names will change after 0.12 is released. Set old_names to False to use the new names now. Set old_names to True to use the old names. \n",
      "  warnings.warn(\n"
     ]
    },
    {
     "name": "stdout",
     "output_type": "stream",
     "text": [
      "                            AutoReg Model Results                             \n",
      "==============================================================================\n",
      "Dep. Variable:                      y   No. Observations:                33207\n",
      "Model:                   AutoReg-X(5)   Log Likelihood              233458.044\n",
      "Method:               Conditional MLE   S.D. of innovations              0.000\n",
      "Date:                Sat, 17 Apr 2021   AIC                            -16.900\n",
      "Time:                        16:20:40   BIC                            -16.898\n",
      "Sample:                             5   HQIC                           -16.900\n",
      "                                33207                                         \n",
      "==============================================================================\n",
      "                 coef    std err          z      P>|z|      [0.025      0.975]\n",
      "------------------------------------------------------------------------------\n",
      "intercept   4.649e-07   1.18e-06      0.396      0.692   -1.84e-06    2.77e-06\n",
      "y.L1           2.2821      0.005    415.981      0.000       2.271       2.293\n",
      "y.L2          -1.6504      0.014   -120.875      0.000      -1.677      -1.624\n",
      "y.L3           0.4732      0.016     29.251      0.000       0.442       0.505\n",
      "y.L4          -0.1316      0.014     -9.639      0.000      -0.158      -0.105\n",
      "y.L5           0.0267      0.005      4.870      0.000       0.016       0.037\n",
      "x1         -4.239e-07   1.21e-06     -0.350      0.726    -2.8e-06    1.95e-06\n",
      "                                    Roots                                    \n",
      "=============================================================================\n",
      "                  Real          Imaginary           Modulus         Frequency\n",
      "-----------------------------------------------------------------------------\n",
      "AR.1            1.0004           -0.0000j            1.0004           -0.0000\n",
      "AR.2            1.0103           -0.0000j            1.0103           -0.0000\n",
      "AR.3            3.1753           -0.0000j            3.1753           -0.0000\n",
      "AR.4           -0.1297           -3.4127j            3.4152           -0.2560\n",
      "AR.5           -0.1297           +3.4127j            3.4152            0.2560\n",
      "-----------------------------------------------------------------------------\n"
     ]
    },
    {
     "data": {
      "application/vnd.jupyter.widget-view+json": {
       "model_id": "cb2ce8fa8a4341a9aa4851782067c3d1",
       "version_major": 2,
       "version_minor": 0
      },
      "text/plain": [
       "Canvas(toolbar=Toolbar(toolitems=[('Home', 'Reset original view', 'home', 'home'), ('Back', 'Back to previous …"
      ]
     },
     "metadata": {},
     "output_type": "display_data"
    },
    {
     "data": {
      "application/vnd.jupyter.widget-view+json": {
       "model_id": "08498017efc2417eb0e350e0b7a95b3e",
       "version_major": 2,
       "version_minor": 0
      },
      "text/plain": [
       "Canvas(toolbar=Toolbar(toolitems=[('Home', 'Reset original view', 'home', 'home'), ('Back', 'Back to previous …"
      ]
     },
     "metadata": {},
     "output_type": "display_data"
    }
   ],
   "source": [
    "emg1_train = emg1[int(0.2*N):int(0.8*N)]\n",
    "angle_train = angle[int(0.2*N):int(0.8*N)]\n",
    "training_max_index = int(0.7*emg1_train.shape[0])\n",
    "mod = ar_select_order(angle_train[0:training_max_index], 20, exog=emg1_train[0:training_max_index])\n",
    "res = mod.model.fit()\n",
    "print(res.summary())\n",
    "fig = res.plot_predict(training_max_index, emg1_train.shape[0], exog_oos=emg1_train[training_max_index-1:])\n",
    "fig = plt.figure(figsize=(14,6))\n",
    "fig = res.plot_diagnostics(fig=fig, lags=20)"
   ]
  },
  {
   "cell_type": "markdown",
   "metadata": {},
   "source": [
    "## <span style='font-family:\"Times New Roman\"'> <span styel=''>2D Spectrogram of the signal is created with:\n",
    "$\\large{\\delta f = 0.5 = \\frac{fs}{window} \\Rightarrow window = 2000} $ \n",
    "## <span style='font-family:\"Times New Roman\"'> <span styel=''>and an 85% overlap:\n",
    "    \n",
    "    \n"
   ]
  },
  {
   "cell_type": "code",
   "execution_count": 14,
   "metadata": {},
   "outputs": [
    {
     "data": {
      "application/vnd.jupyter.widget-view+json": {
       "model_id": "87a9a3900014412fa98fb40f73b064a2",
       "version_major": 2,
       "version_minor": 0
      },
      "text/plain": [
       "Canvas(toolbar=Toolbar(toolitems=[('Home', 'Reset original view', 'home', 'home'), ('Back', 'Back to previous …"
      ]
     },
     "metadata": {},
     "output_type": "display_data"
    },
    {
     "data": {
      "application/vnd.jupyter.widget-view+json": {
       "model_id": "5061549ccb6f42ecb28e8bafed3abde2",
       "version_major": 2,
       "version_minor": 0
      },
      "text/plain": [
       "Canvas(toolbar=Toolbar(toolitems=[('Home', 'Reset original view', 'home', 'home'), ('Back', 'Back to previous …"
      ]
     },
     "metadata": {},
     "output_type": "display_data"
    },
    {
     "name": "stdout",
     "output_type": "stream",
     "text": [
      "(79066, 1)\n"
     ]
    }
   ],
   "source": [
    "nwindow = 2000\n",
    "win = np.ones([nwindow])\n",
    "win =  matplotlib.mlab.window_hanning(win)\n",
    "fig = plt.figure()\n",
    "axs = plt.axes()\n",
    "plt.specgram(emg1.reshape(-1), NFFT=2000, Fs=1000, mode='psd', noverlap=int(0.85*2000), scale='dB')\n",
    "plt.suptitle(\"Spectrogram of bicep signal\", fontsize=22)\n",
    "plt.xlabel(\"time (s) \", fontsize=18)\n",
    "plt.ylabel(\"frequency (Hz)\", fontsize=18)\n",
    "plt.show()\n",
    "\n",
    "fig = plt.figure()\n",
    "axs = plt.axes()\n",
    "plt.specgram(emg2.reshape(-1), NFFT=2000, Fs=1000, mode='psd', noverlap=int(0.85*2000), scale='dB')\n",
    "plt.xlabel(\"time (s) \", fontsize=18)\n",
    "plt.ylabel(\"frequency (Hz)\", fontsize=18)\n",
    "plt.suptitle(\"Spectrogram of tricep signal\", fontsize=22)\n",
    "plt.show()\n",
    "print(emg1.shape)"
   ]
  },
  {
   "cell_type": "markdown",
   "metadata": {},
   "source": [
    "## <span style='font-family:\"Times New Roman\"'> <span styel=''>Note that the higher frequency vertical lines observed periodically may be related to the periodic activation of biceps and triceps accommodating the back and forth periodic movement of the arm:\n"
   ]
  },
  {
   "cell_type": "markdown",
   "metadata": {},
   "source": [
    "## <span style='font-family:\"Times New Roman\"'> <span styel=''> Welch power spectral density estimate is not calculated for different segments of the signal. The total signal length is 79066. We keep only the first 70000 samples and then partition into segments of 10000 by dividing by 7.\n",
    "    \n",
    "## <span style='font-family:\"Times New Roman\"'> <span styel=''>Welch estimates are then superimposed in the same plot for all segments and for both cases of biceps and triceps signal.\n",
    "\n",
    "## <span style='font-family:\"Times New Roman\"'> <span styel=''> As in the spectrogram extraction, a window size of 2000 is used with an overlap of 0.85"
   ]
  },
  {
   "cell_type": "code",
   "execution_count": 15,
   "metadata": {},
   "outputs": [
    {
     "data": {
      "application/vnd.jupyter.widget-view+json": {
       "model_id": "1f3a56f2d780482ea2178af3e3722e8f",
       "version_major": 2,
       "version_minor": 0
      },
      "text/plain": [
       "Canvas(toolbar=Toolbar(toolitems=[('Home', 'Reset original view', 'home', 'home'), ('Back', 'Back to previous …"
      ]
     },
     "metadata": {},
     "output_type": "display_data"
    },
    {
     "data": {
      "application/vnd.jupyter.widget-view+json": {
       "model_id": "b1ab596ab07f4d24ab775aa8b70a78b9",
       "version_major": 2,
       "version_minor": 0
      },
      "text/plain": [
       "Canvas(toolbar=Toolbar(toolitems=[('Home', 'Reset original view', 'home', 'home'), ('Back', 'Back to previous …"
      ]
     },
     "metadata": {},
     "output_type": "display_data"
    }
   ],
   "source": [
    "tot_length = 10000 \n",
    "wind = np.ones([50])/50\n",
    "fig, axs = plt.subplots(2,1)\n",
    "axs[0].set_xlabel(\"frequency (Hz)\", fontsize=20)\n",
    "axs[0].set_ylabel(\"PSD (dB) \", fontsize=20)\n",
    "axs[1].set_xlabel(\"frequency (Hz)\", fontsize=20)\n",
    "axs[1].set_ylabel(\"PSD MA(50) (dB) \", fontsize=20)\n",
    "fig.suptitle(\" Comparative 7-segment Welch for biceps and triceps signal and MA-50\", fontsize=22)\n",
    "for i in range(7):\n",
    "    f, Pxx = scipy.signal.welch(emg1[i*tot_length:(i+1)*tot_length].reshape(-1), fs=1000, window='hann', nperseg=2000, noverlap=int(0.85*2000))\n",
    "    axs[0].semilogy(f, Pxx, label=f\"Segment {i+1}\")\n",
    "    Pxx = scipy.signal.convolve(Pxx.reshape(-1), wind, mode='same')\n",
    "    axs[1].semilogy(f, Pxx, label=f\"Segment {i+1} MA(50)\")\n",
    "legend = axs[0].legend(loc='upper center', shadow=True, fontsize='x-large')\n",
    "axs[0].legend(loc='upper right')\n",
    "axs[1].legend(loc='upper right')\n",
    "plt.show()\n",
    "\n",
    "fig, axs = plt.subplots(2,1)\n",
    "axs[0].set_xlabel(\"frequency (Hz)\", fontsize=20)\n",
    "axs[0].set_ylabel(\"PSD (dB) \", fontsize=20)\n",
    "axs[1].set_xlabel(\"frequency (Hz)\", fontsize=20)\n",
    "axs[1].set_ylabel(\"PSD MA(50) (dB) \", fontsize=20)\n",
    "fig.suptitle(\" Comparative 7-segment Welch for triceps signal and MA-50\", fontsize=22)\n",
    "for i in range(7):\n",
    "    f, Pxx = scipy.signal.welch(emg2[i*tot_length:(i+1)*tot_length].reshape(-1), fs=1000, window='hann', nperseg=2000, noverlap=int(0.85*2000))\n",
    "    axs[0].semilogy(f, Pxx, label=f\"Segment {i+1}\")\n",
    "    Pxx = scipy.signal.convolve(Pxx.reshape(-1), wind, mode='same')\n",
    "    axs[1].semilogy(f, Pxx, label=f\"Segment {i+1} MA(50)\")\n",
    "    \n",
    "axs[0].legend(loc='upper right')\n",
    "axs[1].legend(loc='upper right')\n",
    "plt.show()"
   ]
  },
  {
   "cell_type": "markdown",
   "metadata": {},
   "source": [
    "## <span style='font-family:\"Times New Roman\"'> <span styel=''> In the same way different segment Welch is calculated for 14 5000-sample segments of the initial signal."
   ]
  },
  {
   "cell_type": "code",
   "execution_count": 16,
   "metadata": {},
   "outputs": [
    {
     "name": "stderr",
     "output_type": "stream",
     "text": [
      "<ipython-input-16-2e4ce2e3b896>:3: RuntimeWarning: More than 20 figures have been opened. Figures created through the pyplot interface (`matplotlib.pyplot.figure`) are retained until explicitly closed and may consume too much memory. (To control this warning, see the rcParam `figure.max_open_warning`).\n",
      "  fig, axs = plt.subplots(2,1)\n"
     ]
    },
    {
     "data": {
      "application/vnd.jupyter.widget-view+json": {
       "model_id": "49c4a59301ee4e33ae5c52608e5545cb",
       "version_major": 2,
       "version_minor": 0
      },
      "text/plain": [
       "Canvas(toolbar=Toolbar(toolitems=[('Home', 'Reset original view', 'home', 'home'), ('Back', 'Back to previous …"
      ]
     },
     "metadata": {},
     "output_type": "display_data"
    },
    {
     "data": {
      "application/vnd.jupyter.widget-view+json": {
       "model_id": "557cb175c22c4c318c84c99617b87bbc",
       "version_major": 2,
       "version_minor": 0
      },
      "text/plain": [
       "Canvas(toolbar=Toolbar(toolitems=[('Home', 'Reset original view', 'home', 'home'), ('Back', 'Back to previous …"
      ]
     },
     "metadata": {},
     "output_type": "display_data"
    }
   ],
   "source": [
    "tot_length = 5000\n",
    "wind = np.ones([50])/50\n",
    "fig, axs = plt.subplots(2,1)\n",
    "axs[0].set_xlabel(\"frequency (Hz)\", fontsize=20)\n",
    "axs[0].set_ylabel(\"PSD (dB) \", fontsize=20)\n",
    "axs[1].set_xlabel(\"frequency (Hz)\", fontsize=20)\n",
    "axs[1].set_ylabel(\"PSD MA(50) (dB) \", fontsize=20)\n",
    "fig.suptitle(\" Comparative 14-segment Welch for biceps and triceps signal and MA-50\", fontsize=22)\n",
    "for i in range(14):\n",
    "    f, Pxx = scipy.signal.welch(emg1[i*tot_length:(i+1)*tot_length].reshape(-1), fs=1000, window='hann', nperseg=2000, noverlap=int(0.85*2000))\n",
    "    axs[0].semilogy(f, Pxx, label=f\"Segment {i+1}\")\n",
    "    Pxx = scipy.signal.convolve(Pxx.reshape(-1), wind, mode='same')\n",
    "    axs[1].semilogy(f, Pxx, label=f\"Segment {i+1} MA(50)\")\n",
    "legend = axs[0].legend(loc='upper center', shadow=True, fontsize='x-large')\n",
    "axs[0].legend(loc='upper right')\n",
    "axs[1].legend(loc='upper right')\n",
    "plt.show()\n",
    "\n",
    "fig, axs = plt.subplots(2,1)\n",
    "axs[0].set_xlabel(\"frequency (Hz)\", fontsize=20)\n",
    "axs[0].set_ylabel(\"PSD (dB) \", fontsize=20)\n",
    "axs[1].set_xlabel(\"frequency (Hz)\", fontsize=20)\n",
    "axs[1].set_ylabel(\"PSD MA(50) (dB) \", fontsize=20)\n",
    "fig.suptitle(\" Comparative 14-segment Welch for triceps signal and MA-50\", fontsize=22)\n",
    "for i in range(14):\n",
    "    f, Pxx = scipy.signal.welch(emg2[i*tot_length:(i+1)*tot_length].reshape(-1), fs=1000, window='hann', nperseg=2000, noverlap=int(0.85*2000))\n",
    "    axs[0].semilogy(f, Pxx, label=f\"Segment {i+1}\")\n",
    "    Pxx = scipy.signal.convolve(Pxx.reshape(-1), wind, mode='same')\n",
    "    axs[1].semilogy(f, Pxx, label=f\"Segment {i+1} MA(50)\")\n",
    "    \n",
    "axs[0].legend(loc='upper right')\n",
    "axs[1].legend(loc='upper right')\n",
    "plt.show()"
   ]
  },
  {
   "cell_type": "markdown",
   "metadata": {},
   "source": [
    "## <span style='font-family:\"Times New Roman\"'> <span styel=''> Note that due to the repetitive nature of the task (rotating forearm at 40 bpm) it is high likely that Welch of the segments are similar. To assert that differnt EMG datasets are extracted for an angular velocities of the forearm from 40bpm to 90 bpm with a step of 5 bpm. Welch spectral density is the plotted for all experiments in the same plot."
   ]
  },
  {
   "cell_type": "code",
   "execution_count": 17,
   "metadata": {},
   "outputs": [],
   "source": [
    "# Load extra EMG experiments\n",
    "# Import mat files\n",
    "mat_angle_45bpm = scipy.io.loadmat('data/angle_45bpm.mat')\n",
    "mat_emg1_45bpm = scipy.io.loadmat('data/emg1_45bpm.mat')\n",
    "mat_emg2_45bpm = scipy.io.loadmat('data/emg2_45bpm.mat')\n",
    "mat_angle_50bpm = scipy.io.loadmat('data/angle_50bpm.mat')\n",
    "mat_emg1_50bpm = scipy.io.loadmat('data/emg1_50bpm.mat')\n",
    "mat_emg2_50bpm = scipy.io.loadmat('data/emg2_50bpm.mat')\n",
    "mat_angle_55bpm = scipy.io.loadmat('data/angle_55bpm.mat')\n",
    "mat_emg1_55bpm = scipy.io.loadmat('data/emg1_55bpm.mat')\n",
    "mat_emg2_55bpm = scipy.io.loadmat('data/emg2_55bpm.mat')\n",
    "mat_angle_60bpm = scipy.io.loadmat('data/angle_60bpm.mat')\n",
    "mat_emg1_60bpm = scipy.io.loadmat('data/emg1_60bpm.mat')\n",
    "mat_emg2_60bpm = scipy.io.loadmat('data/emg2_60bpm.mat')\n",
    "mat_angle_65bpm = scipy.io.loadmat('data/angle_65bpm.mat')\n",
    "mat_emg1_65bpm = scipy.io.loadmat('data/emg1_65bpm.mat')\n",
    "mat_emg2_65bpm = scipy.io.loadmat('data/emg2_65bpm.mat')\n",
    "mat_angle_70bpm = scipy.io.loadmat('data/angle_70bpm.mat')\n",
    "mat_emg1_70bpm = scipy.io.loadmat('data/emg1_70bpm.mat')\n",
    "mat_emg2_70bpm = scipy.io.loadmat('data/emg2_70bpm.mat')\n",
    "mat_angle_75bpm = scipy.io.loadmat('data/angle_75bpm.mat')\n",
    "mat_emg1_75bpm = scipy.io.loadmat('data/emg1_75bpm.mat')\n",
    "mat_emg2_75bpm = scipy.io.loadmat('data/emg2_75bpm.mat')\n",
    "mat_angle_80bpm = scipy.io.loadmat('data/angle_80bpm.mat')\n",
    "mat_emg1_80bpm = scipy.io.loadmat('data/emg1_80bpm.mat')\n",
    "mat_emg2_80bpm = scipy.io.loadmat('data/emg2_80bpm.mat')\n",
    "mat_angle_90bpm = scipy.io.loadmat('data/angle_90bpm.mat')\n",
    "mat_emg1_90bpm = scipy.io.loadmat('data/emg1_90bpm.mat')\n",
    "mat_emg2_90bpm = scipy.io.loadmat('data/emg2_90bpm.mat')\n",
    "\n",
    "# Convert them to numpy arrays\n",
    "angle_45bpm = np.array(mat_angle_45bpm['angle1'])\n",
    "emg1_45bpm = np.array(mat_emg1_45bpm['emg1'])\n",
    "emg2_45bpm = np.array(mat_emg2_45bpm['emg2'])\n",
    "angle_50bpm = np.array(mat_angle_50bpm['angle_50bpm'])\n",
    "emg1_50bpm = np.array(mat_emg1_50bpm['emg1_50bpm'])\n",
    "emg2_50bpm = np.array(mat_emg2_50bpm['emg2_50bpm'])\n",
    "angle_55bpm = np.array(mat_angle_55bpm['angle1'])\n",
    "emg1_55bpm = np.array(mat_emg1_55bpm['emg1'])\n",
    "emg2_55bpm = np.array(mat_emg2_55bpm['emg2'])\n",
    "angle_60bpm = np.array(mat_angle_60bpm['angle1'])\n",
    "emg1_60bpm = np.array(mat_emg1_60bpm['emg1'])\n",
    "emg2_60bpm = np.array(mat_emg2_60bpm['emg2'])\n",
    "angle_65bpm = np.array(mat_angle_65bpm['angle1'])\n",
    "emg1_65bpm = np.array(mat_emg1_65bpm['emg1'])\n",
    "emg2_65bpm = np.array(mat_emg2_65bpm['emg2'])\n",
    "angle_70bpm = np.array(mat_angle_70bpm['angle1'])\n",
    "emg1_70bpm = np.array(mat_emg1_70bpm['emg1'])\n",
    "emg2_70bpm = np.array(mat_emg2_70bpm['emg2'])\n",
    "angle_75bpm = np.array(mat_angle_75bpm['angle1'])\n",
    "emg1_75bpm = np.array(mat_emg1_75bpm['emg1'])\n",
    "emg2_75bpm = np.array(mat_emg2_75bpm['emg2'])\n",
    "angle_80bpm = np.array(mat_angle_80bpm['angle1'])\n",
    "emg1_80bpm = np.array(mat_emg1_80bpm['emg1'])\n",
    "emg2_80bpm = np.array(mat_emg2_80bpm['emg2'])\n",
    "angle_90bpm = np.array(mat_angle_90bpm['angle1'])\n",
    "emg1_90bpm = np.array(mat_emg1_90bpm['emg1'])\n",
    "emg2_90bpm = np.array(mat_emg2_90bpm['emg2'])\n",
    "\n",
    "# Put in single numpy object\n",
    "emg1_bpm = np.array([emg1_40bpm, emg1_45bpm, emg1_50bpm, emg1_55bpm, emg1_60bpm, emg1_65bpm, emg1_75bpm, emg1_80bpm, emg1_90bpm], dtype=object)\n",
    "emg2_bpm = np.array([emg2_40bpm, emg2_45bpm, emg2_50bpm, emg2_55bpm, emg2_60bpm, emg2_65bpm, emg2_75bpm, emg2_80bpm, emg2_90bpm], dtype=object)\n",
    "angle_bpm = np.array([angle_40bpm, angle_45bpm, angle_50bpm, angle_55bpm, angle_60bpm, angle_65bpm, angle_75bpm, angle_80bpm, angle_90bpm], dtype=object)\n",
    "\n",
    "for i in range(emg1_bpm.shape[0]):\n",
    "    scaler = preprocessing.StandardScaler().fit(emg1_bpm[i])\n",
    "    emg1_bpm[i] = scaler.transform(emg1_bpm[i])\n",
    "    scaler = preprocessing.StandardScaler().fit(emg2_bpm[i])\n",
    "    emg2_bpm[i] = scaler.transform(emg2_bpm[i])"
   ]
  },
  {
   "cell_type": "code",
   "execution_count": 18,
   "metadata": {},
   "outputs": [
    {
     "data": {
      "application/vnd.jupyter.widget-view+json": {
       "model_id": "c7bb42cb07564f25ad3514b3e5b5a91f",
       "version_major": 2,
       "version_minor": 0
      },
      "text/plain": [
       "Canvas(toolbar=Toolbar(toolitems=[('Home', 'Reset original view', 'home', 'home'), ('Back', 'Back to previous …"
      ]
     },
     "metadata": {},
     "output_type": "display_data"
    },
    {
     "data": {
      "application/vnd.jupyter.widget-view+json": {
       "model_id": "78b7a5563cd6437ca1bd7bed763a59e8",
       "version_major": 2,
       "version_minor": 0
      },
      "text/plain": [
       "Canvas(toolbar=Toolbar(toolitems=[('Home', 'Reset original view', 'home', 'home'), ('Back', 'Back to previous …"
      ]
     },
     "metadata": {},
     "output_type": "display_data"
    },
    {
     "data": {
      "application/vnd.jupyter.widget-view+json": {
       "model_id": "beb370af13944ff291b035fd564f2da7",
       "version_major": 2,
       "version_minor": 0
      },
      "text/plain": [
       "Canvas(toolbar=Toolbar(toolitems=[('Home', 'Reset original view', 'home', 'home'), ('Back', 'Back to previous …"
      ]
     },
     "metadata": {},
     "output_type": "display_data"
    },
    {
     "data": {
      "application/vnd.jupyter.widget-view+json": {
       "model_id": "d420b259da2f4ea4a20fb92d42b279c8",
       "version_major": 2,
       "version_minor": 0
      },
      "text/plain": [
       "Canvas(toolbar=Toolbar(toolitems=[('Home', 'Reset original view', 'home', 'home'), ('Back', 'Back to previous …"
      ]
     },
     "metadata": {},
     "output_type": "display_data"
    },
    {
     "data": {
      "application/vnd.jupyter.widget-view+json": {
       "model_id": "9a6f0fea2a3d4f9ba9b443b6db836934",
       "version_major": 2,
       "version_minor": 0
      },
      "text/plain": [
       "Canvas(toolbar=Toolbar(toolitems=[('Home', 'Reset original view', 'home', 'home'), ('Back', 'Back to previous …"
      ]
     },
     "metadata": {},
     "output_type": "display_data"
    },
    {
     "data": {
      "application/vnd.jupyter.widget-view+json": {
       "model_id": "12706f47ce404f0b8e198d0f1a28575a",
       "version_major": 2,
       "version_minor": 0
      },
      "text/plain": [
       "Canvas(toolbar=Toolbar(toolitems=[('Home', 'Reset original view', 'home', 'home'), ('Back', 'Back to previous …"
      ]
     },
     "metadata": {},
     "output_type": "display_data"
    },
    {
     "data": {
      "application/vnd.jupyter.widget-view+json": {
       "model_id": "d2d3074a33d243e7abff950e92dfea17",
       "version_major": 2,
       "version_minor": 0
      },
      "text/plain": [
       "Canvas(toolbar=Toolbar(toolitems=[('Home', 'Reset original view', 'home', 'home'), ('Back', 'Back to previous …"
      ]
     },
     "metadata": {},
     "output_type": "display_data"
    },
    {
     "data": {
      "application/vnd.jupyter.widget-view+json": {
       "model_id": "3f9a534c724546d983989a347a23df18",
       "version_major": 2,
       "version_minor": 0
      },
      "text/plain": [
       "Canvas(toolbar=Toolbar(toolitems=[('Home', 'Reset original view', 'home', 'home'), ('Back', 'Back to previous …"
      ]
     },
     "metadata": {},
     "output_type": "display_data"
    },
    {
     "data": {
      "application/vnd.jupyter.widget-view+json": {
       "model_id": "e8e8c0ade4fb4b43b8ed42987944d0f8",
       "version_major": 2,
       "version_minor": 0
      },
      "text/plain": [
       "Canvas(toolbar=Toolbar(toolitems=[('Home', 'Reset original view', 'home', 'home'), ('Back', 'Back to previous …"
      ]
     },
     "metadata": {},
     "output_type": "display_data"
    },
    {
     "data": {
      "application/vnd.jupyter.widget-view+json": {
       "model_id": "119abe7ebb094c8697f18077e3935e75",
       "version_major": 2,
       "version_minor": 0
      },
      "text/plain": [
       "Canvas(toolbar=Toolbar(toolitems=[('Home', 'Reset original view', 'home', 'home'), ('Back', 'Back to previous …"
      ]
     },
     "metadata": {},
     "output_type": "display_data"
    },
    {
     "data": {
      "application/vnd.jupyter.widget-view+json": {
       "model_id": "1272c422c55740caace2a34a79d27b16",
       "version_major": 2,
       "version_minor": 0
      },
      "text/plain": [
       "Canvas(toolbar=Toolbar(toolitems=[('Home', 'Reset original view', 'home', 'home'), ('Back', 'Back to previous …"
      ]
     },
     "metadata": {},
     "output_type": "display_data"
    },
    {
     "data": {
      "application/vnd.jupyter.widget-view+json": {
       "model_id": "8338f4c585014a35845866fabc485e87",
       "version_major": 2,
       "version_minor": 0
      },
      "text/plain": [
       "Canvas(toolbar=Toolbar(toolitems=[('Home', 'Reset original view', 'home', 'home'), ('Back', 'Back to previous …"
      ]
     },
     "metadata": {},
     "output_type": "display_data"
    },
    {
     "data": {
      "application/vnd.jupyter.widget-view+json": {
       "model_id": "e22c24e30c184aa59d6930b6ca1a48d2",
       "version_major": 2,
       "version_minor": 0
      },
      "text/plain": [
       "Canvas(toolbar=Toolbar(toolitems=[('Home', 'Reset original view', 'home', 'home'), ('Back', 'Back to previous …"
      ]
     },
     "metadata": {},
     "output_type": "display_data"
    },
    {
     "data": {
      "application/vnd.jupyter.widget-view+json": {
       "model_id": "6dbbbd557c0c4459a16dab52ebcb72b7",
       "version_major": 2,
       "version_minor": 0
      },
      "text/plain": [
       "Canvas(toolbar=Toolbar(toolitems=[('Home', 'Reset original view', 'home', 'home'), ('Back', 'Back to previous …"
      ]
     },
     "metadata": {},
     "output_type": "display_data"
    },
    {
     "data": {
      "application/vnd.jupyter.widget-view+json": {
       "model_id": "a97ca9169b684e2f93e226e5475a1669",
       "version_major": 2,
       "version_minor": 0
      },
      "text/plain": [
       "Canvas(toolbar=Toolbar(toolitems=[('Home', 'Reset original view', 'home', 'home'), ('Back', 'Back to previous …"
      ]
     },
     "metadata": {},
     "output_type": "display_data"
    },
    {
     "data": {
      "application/vnd.jupyter.widget-view+json": {
       "model_id": "e241d7e231274b91b4fcebb6d6f94585",
       "version_major": 2,
       "version_minor": 0
      },
      "text/plain": [
       "Canvas(toolbar=Toolbar(toolitems=[('Home', 'Reset original view', 'home', 'home'), ('Back', 'Back to previous …"
      ]
     },
     "metadata": {},
     "output_type": "display_data"
    },
    {
     "data": {
      "application/vnd.jupyter.widget-view+json": {
       "model_id": "4088f13da6784455a2597acdb709eaea",
       "version_major": 2,
       "version_minor": 0
      },
      "text/plain": [
       "Canvas(toolbar=Toolbar(toolitems=[('Home', 'Reset original view', 'home', 'home'), ('Back', 'Back to previous …"
      ]
     },
     "metadata": {},
     "output_type": "display_data"
    },
    {
     "data": {
      "application/vnd.jupyter.widget-view+json": {
       "model_id": "92889dc0fc7240368ff6094f966a5687",
       "version_major": 2,
       "version_minor": 0
      },
      "text/plain": [
       "Canvas(toolbar=Toolbar(toolitems=[('Home', 'Reset original view', 'home', 'home'), ('Back', 'Back to previous …"
      ]
     },
     "metadata": {},
     "output_type": "display_data"
    }
   ],
   "source": [
    "for i in range(emg1_bpm.shape[0]):\n",
    "    bpm = 40 +i*5\n",
    "    nwindow = 2000\n",
    "    win = np.ones([nwindow])\n",
    "    win =  matplotlib.mlab.window_hanning(win)\n",
    "    fig = plt.figure()\n",
    "    axs = plt.axes()\n",
    "    plt.specgram(emg1_bpm[i].reshape(-1), NFFT=2000, Fs=1000, mode='psd', noverlap=int(0.85*2000), scale='dB')\n",
    "    plt.suptitle(f\"Spectrogram of bicep signal {bpm} bpm\", fontsize=22)\n",
    "    plt.xlabel(\"time (s) \", fontsize=18)\n",
    "    plt.ylabel(\"frequency (Hz)\", fontsize=18)\n",
    "    plt.show()\n",
    "\n",
    "    fig = plt.figure()\n",
    "    axs = plt.axes()\n",
    "    plt.specgram(emg2_bpm[i].reshape(-1), NFFT=2000, Fs=1000, mode='psd', noverlap=int(0.85*2000), scale='dB')\n",
    "    plt.xlabel(\"time (s) \", fontsize=18)\n",
    "    plt.ylabel(\"frequency (Hz)\", fontsize=18)\n",
    "    plt.suptitle(f\"Spectrogram of tricep signa {bpm} bpm\", fontsize=22)\n",
    "    plt.show()\n"
   ]
  },
  {
   "cell_type": "code",
   "execution_count": 21,
   "metadata": {},
   "outputs": [
    {
     "data": {
      "application/vnd.jupyter.widget-view+json": {
       "model_id": "b3bda81e3a9740ab9770e58997feb040",
       "version_major": 2,
       "version_minor": 0
      },
      "text/plain": [
       "Canvas(toolbar=Toolbar(toolitems=[('Home', 'Reset original view', 'home', 'home'), ('Back', 'Back to previous …"
      ]
     },
     "metadata": {},
     "output_type": "display_data"
    },
    {
     "data": {
      "application/vnd.jupyter.widget-view+json": {
       "model_id": "ce1510eb9bc54f368d373148acb1a7ee",
       "version_major": 2,
       "version_minor": 0
      },
      "text/plain": [
       "Canvas(toolbar=Toolbar(toolitems=[('Home', 'Reset original view', 'home', 'home'), ('Back', 'Back to previous …"
      ]
     },
     "metadata": {},
     "output_type": "display_data"
    }
   ],
   "source": [
    "tot_length = 10000 \n",
    "wind = np.ones([50])/50\n",
    "fig, axs = plt.subplots(2,1)\n",
    "axs[0].set_xlabel(\"frequency (Hz)\", fontsize=20)\n",
    "axs[0].set_ylabel(\"PSD (dB) \", fontsize=20)\n",
    "axs[1].set_xlabel(\"frequency (Hz)\", fontsize=20)\n",
    "axs[1].set_ylabel(\"PSD MA(50) (dB) \", fontsize=20)\n",
    "fig.suptitle(\" Comparative full-length Welch for biceps and triceps signal and MA-50\", fontsize=22)\n",
    "for i in range(9):\n",
    "    bpm = 40+i*5\n",
    "    f, Pxx = scipy.signal.welch(emg1_bpm[i].reshape(-1), fs=1000, window='hann', nperseg=2000, noverlap=int(0.85*2000))\n",
    "    axs[0].semilogy(f, Pxx, label=f\"bpm {bpm}\")\n",
    "    Pxx = scipy.signal.convolve(Pxx.reshape(-1), wind, mode='same')\n",
    "    axs[1].semilogy(f, Pxx, label=f\"bpm {bpm} MA(50)\")\n",
    "legend = axs[0].legend(loc='upper center', shadow=True, fontsize='x-large')\n",
    "axs[0].legend(loc='upper right')\n",
    "axs[1].legend(loc='upper right')\n",
    "plt.show()\n",
    "\n",
    "fig, axs = plt.subplots(2,1)\n",
    "axs[0].set_xlabel(\"frequency (Hz)\", fontsize=20)\n",
    "axs[0].set_ylabel(\"PSD (dB) \", fontsize=20)\n",
    "axs[1].set_xlabel(\"frequency (Hz)\", fontsize=20)\n",
    "axs[1].set_ylabel(\"PSD MA(50) (dB) \", fontsize=20)\n",
    "fig.suptitle(\" Comparative full-length Welch for triceps signal and MA-50\", fontsize=22)\n",
    "for i in range(9):\n",
    "    f, Pxx = scipy.signal.welch(emg2_bpm[i].reshape(-1), fs=1000, window='hann', nperseg=2000, noverlap=int(0.85*2000))\n",
    "    axs[0].semilogy(f, Pxx, label=f\"bpm {bpm}\")\n",
    "    Pxx = scipy.signal.convolve(Pxx.reshape(-1), wind, mode='same')\n",
    "    axs[1].semilogy(f, Pxx, label=f\"bpm {bpm} MA(50)\")\n",
    "    \n",
    "axs[0].legend(loc='upper right')\n",
    "axs[1].legend(loc='upper right')\n",
    "plt.show()"
   ]
  },
  {
   "cell_type": "code",
   "execution_count": null,
   "metadata": {},
   "outputs": [],
   "source": []
  }
 ],
 "metadata": {
  "kernelspec": {
   "display_name": "Python 3",
   "language": "python",
   "name": "python3"
  },
  "language_info": {
   "codemirror_mode": {
    "name": "ipython",
    "version": 3
   },
   "file_extension": ".py",
   "mimetype": "text/x-python",
   "name": "python",
   "nbconvert_exporter": "python",
   "pygments_lexer": "ipython3",
   "version": "3.8.5"
  }
 },
 "nbformat": 4,
 "nbformat_minor": 4
}
